{
 "cells": [
  {
   "cell_type": "markdown",
   "metadata": {},
   "source": [
    "This notebook contains the code and all my understandings and everything about magic. This is somehow my first serious work in machine learning."
   ]
  },
  {
   "cell_type": "code",
   "execution_count": 1,
   "metadata": {},
   "outputs": [],
   "source": [
    "import torch\n",
    "# TODO: make these constants arguments\n",
    "n_route = 228\n",
    "n_hist = 12\n",
    "n_pred = 9\n",
    "batch_size = 50\n",
    "epoch = 50\n",
    "# parser.add_argument('--save', type=int, default=10)\n",
    "ks = 3  # spatial convolution kernel size\n",
    "kt = 3  # temporal convolution kernel size\n",
    "lr = 1e-3\n",
    "opt = torch.optim.RMSprop\n",
    "# parser.add_argument('--graph', type=str, default='default')\n",
    "# parser.add_argument('--inf_mode', type=str, default='merge')"
   ]
  },
  {
   "cell_type": "markdown",
   "metadata": {},
   "source": [
    "The model has two spatio temporal blocks and each block has two gated temporal convolutional layers and one spatial convolutional layer in between so we have totaly six layers and we should determine the size of channel for these layers"
   ]
  },
  {
   "cell_type": "code",
   "execution_count": 5,
   "metadata": {},
   "outputs": [],
   "source": [
    "blocks = [[1, 32, 64], [64, 32, 128]]"
   ]
  },
  {
   "cell_type": "markdown",
   "metadata": {},
   "source": [
    "We should have a file which defines the graph we want to work on."
   ]
  },
  {
   "cell_type": "code",
   "execution_count": 46,
   "metadata": {},
   "outputs": [
    {
     "data": {
      "text/plain": [
       "torch.Size([228, 228])"
      ]
     },
     "execution_count": 46,
     "metadata": {},
     "output_type": "execute_result"
    }
   ],
   "source": [
    "import pandas as pd\n",
    "\n",
    "W = pd.read_csv(\"PeMSD7_W_228.csv\", header=None)\n",
    "W_tensor = torch.tensor(W.values)\n",
    "W_tensor.shape"
   ]
  },
  {
   "cell_type": "markdown",
   "metadata": {},
   "source": [
    "Equation 10 on original papaer"
   ]
  },
  {
   "cell_type": "code",
   "execution_count": 59,
   "metadata": {},
   "outputs": [],
   "source": [
    "def weight_matrix(W, sigma2=0.1, epsilon=0.5, scaling=True):\n",
    "    '''\n",
    "    Weight matrix function.\n",
    "    :param W: tensor, the adjacency matrix of the graph.\n",
    "    :param sigma2: float, scalar of matrix W.\n",
    "    :param epsilon: float, thresholds to control the sparsity of matrix W.\n",
    "    :param scaling: bool, whether applies numerical scaling on W.\n",
    "    :return: np.ndarray, [n_route, n_route].\n",
    "    '''\n",
    "    # check whether W is a 0/1 matrix.\n",
    "    if set(torch.unique(W)) == {0, 1}:\n",
    "        print('The input graph is a 0/1 matrix; set \"scaling\" to False.')\n",
    "        scaling = False\n",
    "\n",
    "    if scaling:\n",
    "        n = W.shape[0]\n",
    "        W = W / 10000. # WHY\n",
    "        W2, W_mask = W * W, np.ones([n, n]) - np.identity(n)\n",
    "        # refer to Eq.10\n",
    "        a = torch.exp(-W2 / sigma2)\n",
    "        a[a >= epsilon] = 0\n",
    "        \n",
    "        return a * W_mask\n",
    "    \n",
    "    return W"
   ]
  },
  {
   "cell_type": "code",
   "execution_count": 60,
   "metadata": {},
   "outputs": [
    {
     "name": "stdout",
     "output_type": "stream",
     "text": [
      "tensor([0.0000e+00, 1.4279e-89, 1.0224e-88,  ..., 4.9829e-01, 4.9897e-01,\n",
      "        4.9999e-01], dtype=torch.float64)\n"
     ]
    }
   ],
   "source": [
    "tmp = weight_matrix(W_tensor)\n",
    "print(torch.unique(tmp))"
   ]
  },
  {
   "cell_type": "markdown",
   "metadata": {},
   "source": [
    "In the below cell I want to calculate normalized laplacian.<br/>\n",
    "I calculate it using \\(L=I - D^(-1/2) W D^(-1/2)\\)"
   ]
  },
  {
   "cell_type": "code",
   "execution_count": 20,
   "metadata": {},
   "outputs": [],
   "source": [
    "import numpy as np\n",
    "\n",
    "def normalized_laplacian(W):\n",
    "    '''\n",
    "    Normalized graph Laplacian function.\n",
    "    :param W: np.ndarray, [n_route, n_route], weighted adjacency matrix of G.\n",
    "    :return: np.matrix, [n_route, n_route].\n",
    "    '''\n",
    "    # d ->  diagonal degree matrix\n",
    "    n, d = np.shape(W)[0], torch.sum(W, axis=1)\n",
    "    I = torch.eye(n)\n",
    "    \n",
    "    # d^(-1/2)\n",
    "    d = torch.pow(d, -1/2)\n",
    "    # make d diagonal\n",
    "    d = torch.diag(d)\n",
    "\n",
    "    dw = torch.matmul(d, W)\n",
    "    dwd = torch.matmul(dw, d)\n",
    "    \n",
    "    return dwd"
   ]
  },
  {
   "cell_type": "code",
   "execution_count": 21,
   "metadata": {},
   "outputs": [
    {
     "name": "stdout",
     "output_type": "stream",
     "text": [
      "<class 'torch.Tensor'>\n",
      "+++++\n",
      "<class 'torch.Tensor'>\n",
      "tensor([[0.1875, 0.3125, 0.5000],\n",
      "        [0.3125, 0.5000, 0.1875],\n",
      "        [0.5000, 0.1875, 0.3125]], dtype=torch.float64)\n"
     ]
    }
   ],
   "source": [
    "T = torch.tensor([[3,5,8], [5, 8, 3], [8, 3, 5]], dtype=float)\n",
    "print(normalized_laplacian(T))"
   ]
  },
  {
   "cell_type": "markdown",
   "metadata": {},
   "source": [
    "**Chebyshev polynomials approximation**"
   ]
  },
  {
   "cell_type": "code",
   "execution_count": 22,
   "metadata": {},
   "outputs": [
    {
     "data": {
      "text/plain": [
       "tensor([[68.1000, 66.8000, 61.7000,  ..., 67.7000, 68.8000, 68.8000],\n",
       "        [68.0000, 64.3000, 66.6000,  ..., 70.2000, 69.1000, 68.7000],\n",
       "        [68.3000, 67.8000, 65.9000,  ..., 70.4000, 67.3000, 69.0000],\n",
       "        ...,\n",
       "        [68.9000, 37.9000, 68.8000,  ..., 68.7000, 67.5000, 19.7000],\n",
       "        [69.2000, 37.8000, 68.7000,  ..., 67.7000, 67.4000, 19.5000],\n",
       "        [68.6000, 52.9000, 68.6000,  ..., 68.1000, 68.5000, 19.1000]],\n",
       "       dtype=torch.float64)"
      ]
     },
     "execution_count": 22,
     "metadata": {},
     "output_type": "execute_result"
    }
   ],
   "source": [
    "import pandas as pd\n",
    "\n",
    "data_file = pd.read_csv(\"PeMSD7_V_228.csv\", header=None)\n",
    "data_file_tensor = torch.tensor(data_file.values)\n",
    "data_file_tensor"
   ]
  },
  {
   "cell_type": "code",
   "execution_count": 61,
   "metadata": {},
   "outputs": [],
   "source": [
    "n_train, n_val, n_test = 34, 5, 5"
   ]
  },
  {
   "cell_type": "code",
   "execution_count": null,
   "metadata": {},
   "outputs": [],
   "source": []
  },
  {
   "cell_type": "code",
   "execution_count": null,
   "metadata": {},
   "outputs": [],
   "source": []
  }
 ],
 "metadata": {
  "kernelspec": {
   "display_name": "Python 3",
   "language": "python",
   "name": "python3"
  },
  "language_info": {
   "codemirror_mode": {
    "name": "ipython",
    "version": 3
   },
   "file_extension": ".py",
   "mimetype": "text/x-python",
   "name": "python",
   "nbconvert_exporter": "python",
   "pygments_lexer": "ipython3",
   "version": "3.8.3"
  }
 },
 "nbformat": 4,
 "nbformat_minor": 4
}
